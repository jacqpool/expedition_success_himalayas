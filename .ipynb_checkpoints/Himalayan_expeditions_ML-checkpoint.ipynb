{
 "cells": [
  {
   "cell_type": "markdown",
   "metadata": {},
   "source": [
    "# Predicting Himalayan Expedition Success - Machine Learning\n",
    "***\n",
    "\n",
    "\n",
    "## Introduction\n",
    "\n",
    "The Himalayan Database ©, consists of records for all expeditions in the Nepal Himalayas from 1905 through 2018. The database covers expeditions to more than 450 significant peaks, including Everest, Cho Oyu and Kangchenjunga. The database is published by The Himalayan Database ©, a non-profit organization. For more information go to http://himalayandatabase.com/index.html.\n",
    "\n",
    "\n",
    "\n",
    "### Datasets\n",
    "Three datasets peaks.csv, expeditions.csv and members.csv have already been cleaned and joined into DF_Himalayas_Expeditions.csv for further visual analysis. \n",
    "\n",
    "This dataset is now loaded into a DataFrame for statistical analysis.\n",
    "\n",
    "### Outcome\n",
    "\n",
    "As a reminder, the data will be used to predict a member's success of a summitting a certain peak, during a certain time of year, with certain support mechanisms.  "
   ]
  },
  {
   "cell_type": "markdown",
   "metadata": {},
   "source": [
    "## 1. Packages and setup"
   ]
  },
  {
   "cell_type": "code",
   "execution_count": 19,
   "metadata": {
    "scrolled": true
   },
   "outputs": [],
   "source": [
    "%matplotlib inline\n",
    "import pandas as pd\n",
    "import numpy as np\n",
    "import matplotlib.pyplot as plt\n",
    "import seaborn as sns\n",
    "\n",
    "from IPython.core.pylabtools import figsize\n",
    "\n",
    "# Preprocessing\n",
    "from sklearn.model_selection import train_test_split\n",
    "from sklearn.model_selection import GridSearchCV\n",
    "from sklearn.pipeline import Pipeline\n",
    "from sklearn.preprocessing import StandardScaler\n",
    "from sklearn.decomposition import PCA\n",
    "\n",
    "# Random Forest\n",
    "from sklearn.ensemble import RandomForestClassifier\n",
    "from sklearn.model_selection import cross_val_score\n",
    "from sklearn.ensemble import ExtraTreesClassifier\n",
    "from sklearn.ensemble import AdaBoostClassifier\n",
    "from sklearn.ensemble import GradientBoostingClassifier\n",
    "\n",
    "# Logistic Regression\n",
    "from sklearn.neighbors import KNeighborsClassifier\n",
    "from sklearn.linear_model import LogisticRegression\n",
    "\n",
    "# SVM\n",
    "from sklearn.svm import SVC\n",
    "\n",
    "# Keras\n",
    "from keras.models import Sequential\n",
    "from keras.layers import Dense\n",
    "\n",
    "# Metrics\n",
    "from sklearn.metrics import accuracy_score\n",
    "from sklearn.metrics import roc_auc_score\n",
    "from sklearn.metrics import roc_curve\n",
    "from sklearn.metrics import classification_report\n",
    "from sklearn import metrics"
   ]
  },
  {
   "cell_type": "code",
   "execution_count": 3,
   "metadata": {
    "scrolled": true
   },
   "outputs": [],
   "source": [
    "# Set workspace\n",
    "pd.set_option('display.max_columns', 500)\n",
    "# Set output charackters to 110 (not 79)\n",
    "pd.options.display.width = 110\n",
    "# To give multiple cell output. Not just the last command.\n",
    "#InteractiveShell.ast_node_interactivity = 'last'"
   ]
  },
  {
   "cell_type": "markdown",
   "metadata": {},
   "source": [
    "## 2. Load into DataFrame & Split"
   ]
  },
  {
   "cell_type": "code",
   "execution_count": 4,
   "metadata": {},
   "outputs": [
    {
     "name": "stdout",
     "output_type": "stream",
     "text": [
      "Shape: (63113, 178)\n"
     ]
    }
   ],
   "source": [
    "# Load data as 'df'\n",
    "df = pd.read_csv('DF_Himalayas_Expeditions_MLready.csv')\n",
    "print('Shape:', df.shape)"
   ]
  },
  {
   "cell_type": "markdown",
   "metadata": {},
   "source": [
    "First extract the required labeled (output) feature and and remove the other output features. "
   ]
  },
  {
   "cell_type": "code",
   "execution_count": 5,
   "metadata": {},
   "outputs": [],
   "source": [
    "# Extract the labels feature and drop it from the training data\n",
    "y = df['msuccess'].values"
   ]
  },
  {
   "cell_type": "code",
   "execution_count": 6,
   "metadata": {},
   "outputs": [],
   "source": [
    "# Before dropping 'msuccess', first create the heuristic dataframe. More on this later.\n",
    "df_heuristic = df[['comrte', 'calcage', 'msuccess']]\n",
    "df.drop('msuccess', inplace=True, axis=1, errors='ignore')"
   ]
  },
  {
   "cell_type": "code",
   "execution_count": 7,
   "metadata": {
    "scrolled": true
   },
   "outputs": [
    {
     "name": "stdout",
     "output_type": "stream",
     "text": [
      "X shape:  (63113, 177)\n",
      "y shape:  (63113,)\n"
     ]
    }
   ],
   "source": [
    "# Reshape\n",
    "X = np.array(df)\n",
    "#y = y.reshape(-1, 1)  \n",
    "\n",
    "print('X shape: ', X.shape)\n",
    "print('y shape: ', y.shape)"
   ]
  },
  {
   "cell_type": "code",
   "execution_count": 8,
   "metadata": {},
   "outputs": [],
   "source": [
    "# Train, test split\n",
    "X_train, X_test, y_train, y_test = train_test_split(X, y, random_state=42, test_size=0.3)"
   ]
  },
  {
   "cell_type": "markdown",
   "metadata": {},
   "source": [
    "## 3. Machine Learning"
   ]
  },
  {
   "cell_type": "markdown",
   "metadata": {},
   "source": [
    "As a reminder what we are trying to do; predict the chances of an indivudual successfully summitting a peak in the Himalayas.  \n",
    "\n",
    "Review different analysis approaches.\n",
    "- 3.1  Heuristic predictor. This will act as the baseline model at first.\n",
    "- 3.2  Metrics and scores\n",
    "- 3.3  Random Forest and Gradient Boost\n",
    "- 3.4  Logistic Regression\n",
    "- 3.5  SVM\n",
    "- 3.6  Deep Learning"
   ]
  },
  {
   "cell_type": "markdown",
   "metadata": {},
   "source": [
    "### 3.1 Heuristic"
   ]
  },
  {
   "cell_type": "code",
   "execution_count": 9,
   "metadata": {
    "scrolled": true
   },
   "outputs": [
    {
     "name": "stdout",
     "output_type": "stream",
     "text": [
      "0    35159\n",
      "1    27954\n",
      "Name: comrte, dtype: int64\n"
     ]
    },
    {
     "data": {
      "image/png": "[encoded data removed]",
      "text/plain": [
       "<Figure size 432x288 with 1 Axes>"
      ]
     },
     "metadata": {},
     "output_type": "display_data"
    }
   ],
   "source": [
    "# Explore commercial routes (comrte)\n",
    "print(df_heuristic.comrte.value_counts())\n",
    "sns.set()\n",
    "_ = sns.countplot(x='comrte', hue='msuccess', data=df_heuristic)"
   ]
  },
  {
   "cell_type": "markdown",
   "metadata": {},
   "source": [
    "It is clear that there is a significant difference between successful summits on commercial routes versus 'off piste' routes. We will use this variable as the heuristic measure of successful summit."
   ]
  },
  {
   "cell_type": "code",
   "execution_count": 10,
   "metadata": {
    "scrolled": true
   },
   "outputs": [
    {
     "data": {
      "text/plain": [
       "-10325.72956594369"
      ]
     },
     "execution_count": 10,
     "metadata": {},
     "output_type": "execute_result"
    }
   ],
   "source": [
    "# Integrity check that X[:,37] is infact df['comrte']\n",
    "sum(df['comrte'].values - X[:,37])"
   ]
  },
  {
   "cell_type": "code",
   "execution_count": 11,
   "metadata": {
    "scrolled": true
   },
   "outputs": [
    {
     "name": "stdout",
     "output_type": "stream",
     "text": [
      "Heuristic score: 0.84 %\n"
     ]
    }
   ],
   "source": [
    "# Commercial route 'comrte' prediction score on success\n",
    "\n",
    "h_count = 0\n",
    "for i in range(len(X_test)):\n",
    "    if X_test[i,37] == y_test[i]:\n",
    "        h_count += 1\n",
    "\n",
    "print('Heuristic score: {:0.2f}'.format(h_count / len(X_test)*100),'%')\n",
    "\n",
    "# Another way to do it, but quicker? (vectorised)\n",
    "#(len(y_test) - (X_test[:,37] ^ y_test.reshape(1,-1)).sum()) / len(y_test) * 100"
   ]
  },
  {
   "cell_type": "markdown",
   "metadata": {},
   "source": [
    "Baseline score for 'comrte': 60.96%  \n",
    "  \n",
    "A better heuristic feature was later found to be 'o2climb', which gave a score of 74.73%! This will be the heuristic feature that we will use a baseline.  \n",
    "  \n",
    "Baseline score to beat ('mo2climb'): 74.73%"
   ]
  },
  {
   "cell_type": "code",
   "execution_count": 12,
   "metadata": {},
   "outputs": [
    {
     "data": {
      "text/plain": [
       "0.0"
      ]
     },
     "execution_count": 12,
     "metadata": {},
     "output_type": "execute_result"
    }
   ],
   "source": [
    "# Integrity check that X[:,15] is infact df['mo2climb']\n",
    "sum(df['mo2climb'].values - X[:,15])"
   ]
  },
  {
   "cell_type": "code",
   "execution_count": 21,
   "metadata": {
    "scrolled": true
   },
   "outputs": [
    {
     "name": "stdout",
     "output_type": "stream",
     "text": [
      "Heuristic score: 74.73 %\n",
      "ROC score          : 0.6684\n"
     ]
    }
   ],
   "source": [
    "# Commercial route 'comrte' prediction score on success\n",
    "\n",
    "h_count = 0\n",
    "for i in range(len(X_test)):\n",
    "    if X_test[i,15] == y_test[i]:\n",
    "        h_count += 1\n",
    "\n",
    "print('Heuristic score: {:0.2f}'.format(h_count / len(X_test)*100),'%')\n",
    "\n",
    "# Another way to do it, but quicker? (vectorised)\n",
    "#(len(y_test) - (X_test[:,37] ^ y_test.reshape(1,-1)).sum()) / len(y_test) * 100\n",
    "\n",
    "# Calculate ROC. Use 'mo2used' values for y_pred\n",
    "print('ROC score          : {:0.4f}'.format(roc_auc_score(y_test, X_test[:,15])))"
   ]
  },
  {
   "cell_type": "code",
   "execution_count": null,
   "metadata": {},
   "outputs": [],
   "source": [
    "    # Plot the ROC curve\n",
    "    fpr, tpr, thresholds = roc_curve(y_test, X_test[:,15])\n",
    "    _ = plt.plot([0, 1], [0, 1], 'k--')\n",
    "    _ = plt.plot(fpr, tpr, label='Logistic Regression')\n",
    "    _ = plt.xlabel('False Positive Rate')\n",
    "    _ = plt.ylabel('True Positive Rate')\n",
    "    _ = plt.title('Logistic Regression ROC Curve')\n",
    "    plt.show();"
   ]
  },
  {
   "cell_type": "markdown",
   "metadata": {},
   "source": [
    "### 3.2 Metrics and scores"
   ]
  },
  {
   "cell_type": "markdown",
   "metadata": {},
   "source": [
    "Below is a function to quickly check the accuracy and ROC score and ROC curve for each model."
   ]
  },
  {
   "cell_type": "code",
   "execution_count": 17,
   "metadata": {},
   "outputs": [],
   "source": [
    "def clf_score(clf):\n",
    "    '''A quick way to call the same function many times to check the clf score'''\n",
    "    # Check the accuracy on the test set with .predict()\n",
    "    y_pred = clf.predict(X_test)\n",
    "    print('Accuracy (.predict): {:0.4f}'.format(metrics.accuracy_score(y_test, y_pred)))\n",
    "    # Check the accuracy on the test set with .score()\n",
    "    print('Accuracy   (.score): {:0.4f}'.format(clf.score(X_test, y_test)))\n",
    "    # Check the  and the ROC score\n",
    "    y_pred_prob = clf.predict_proba(X_test)[:,1]\n",
    "    print('ROC score          : {:0.4f}'.format(roc_auc_score(y_test, y_pred_prob)))\n",
    "    \n",
    "    # Plot the ROC curve\n",
    "    fpr, tpr, thresholds = roc_curve(y_test, y_pred_prob)\n",
    "    _ = plt.plot([0, 1], [0, 1], 'k--')\n",
    "    _ = plt.plot(fpr, tpr, label='Logistic Regression')\n",
    "    _ = plt.xlabel('False Positive Rate')\n",
    "    _ = plt.ylabel('True Positive Rate')\n",
    "    _ = plt.title('Logistic Regression ROC Curve')\n",
    "    plt.show();"
   ]
  },
  {
   "cell_type": "markdown",
   "metadata": {},
   "source": [
    "### 3.3 Random Forest"
   ]
  },
  {
   "cell_type": "code",
   "execution_count": 20,
   "metadata": {
    "scrolled": true
   },
   "outputs": [
    {
     "name": "stdout",
     "output_type": "stream",
     "text": [
      "Accuracy (.predict): 0.8379\n",
      "Accuracy   (.score): 0.8379\n",
      "ROC score          : 0.9089\n"
     ]
    },
    {
     "data": {
      "image/png": "[encoded data removed]",
      "text/plain": [
       "<Figure size 432x288 with 1 Axes>"
      ]
     },
     "metadata": {
      "needs_background": "light"
     },
     "output_type": "display_data"
    }
   ],
   "source": [
    "# Initialise Random Forest and fit the training data\n",
    "clf1 = RandomForestClassifier(n_estimators=100, random_state=42)\n",
    "clf1.fit(X_train, y_train)\n",
    "clf_score(clf1)\n",
    "\n",
    "# Second most accurate, BUT FASTEST!"
   ]
  },
  {
   "cell_type": "code",
   "execution_count": 22,
   "metadata": {
    "scrolled": false
   },
   "outputs": [],
   "source": [
    "# Create a DataFrame with the sequence of most important features\n",
    "feat_imp = pd.DataFrame(zip(df.columns, clf1.feature_importances_), columns=['feature', 'importance']).\\\n",
    "    sort_values(by='importance', ascending=False).head(15)"
   ]
  },
  {
   "cell_type": "code",
   "execution_count": 23,
   "metadata": {
    "scrolled": false
   },
   "outputs": [
    {
     "data": {
      "image/png": "[encoded data removed]",
      "text/plain": [
       "<Figure size 432x288 with 1 Axes>"
      ]
     },
     "metadata": {
      "needs_background": "light"
     },
     "output_type": "display_data"
    }
   ],
   "source": [
    "# Plot the most important features\n",
    "sns.barplot(x='importance', y='feature', data=feat_imp)\n",
    "# Add labels to your graph\n",
    "_ = plt.xlabel('Feature Importance Score')\n",
    "_ = plt.ylabel('Features')\n",
    "_ = plt.title(\"Visualizing Important Features\")\n",
    "#_ = plt.legend()\n",
    "plt.show()"
   ]
  },
  {
   "cell_type": "markdown",
   "metadata": {},
   "source": [
    "From reviewing the most important features, it is evident that 'comrte' does not even appear in the top 15 best features. A better heuristic will be 'calcage', but the top 3 features are all continous types which will be difficult to predict a yes/no outcome for summit success. An easier heuristic feature to use will be top binary feature, in this case 'mo2climb'."
   ]
  },
  {
   "cell_type": "code",
   "execution_count": 753,
   "metadata": {},
   "outputs": [
    {
     "data": {
      "text/plain": [
       "0.0"
      ]
     },
     "execution_count": 753,
     "metadata": {},
     "output_type": "execute_result"
    }
   ],
   "source": [
    "# Integrity check that X[:,15] is infact df['mo2climb']\n",
    "sum(df['mo2climb'].values - X[:,15])"
   ]
  },
  {
   "cell_type": "code",
   "execution_count": 754,
   "metadata": {},
   "outputs": [
    {
     "name": "stdout",
     "output_type": "stream",
     "text": [
      "Heuristic score: 74.73 %\n"
     ]
    }
   ],
   "source": [
    "# Oxygen use whilst climbing 'o2climb' prediction score on success\n",
    "\n",
    "h_count = 0\n",
    "for i in range(len(X_test)):\n",
    "    if X_test[i,15] == y_test[i]:\n",
    "        h_count += 1\n",
    "\n",
    "print('Heuristic score: {:0.2f}'.format(h_count / len(X_test)*100),'%')"
   ]
  },
  {
   "cell_type": "markdown",
   "metadata": {},
   "source": [
    "Try to further improve the score with cross validation."
   ]
  },
  {
   "cell_type": "code",
   "execution_count": 755,
   "metadata": {},
   "outputs": [
    {
     "data": {
      "text/plain": [
       "0.6291563910985545"
      ]
     },
     "execution_count": 755,
     "metadata": {},
     "output_type": "execute_result"
    }
   ],
   "source": [
    "scores = cross_val_score(clf1, X, y, cv=5)\n",
    "scores.mean()"
   ]
  },
  {
   "cell_type": "markdown",
   "metadata": {},
   "source": [
    "This score is worse than standard Random Forest.  \n",
    "  \n",
    "Lets try ExtraTrees Classifier"
   ]
  },
  {
   "cell_type": "code",
   "execution_count": 757,
   "metadata": {
    "scrolled": true
   },
   "outputs": [
    {
     "name": "stdout",
     "output_type": "stream",
     "text": [
      "Accuracy (.predict): 0.8310\n",
      "Accuracy   (.score): 0.8310\n",
      "ROC score          : 0.8804\n"
     ]
    },
    {
     "data": {
      "image/png": "[encoded data removed]",
      "text/plain": [
       "<Figure size 432x288 with 1 Axes>"
      ]
     },
     "metadata": {
      "needs_background": "light"
     },
     "output_type": "display_data"
    }
   ],
   "source": [
    "clf2 = ExtraTreesClassifier(n_estimators=100, random_state=42)\n",
    "clf2.fit(X_train, y_train)\n",
    "scores = cross_val_score(clf2, X, y, cv=5)\n",
    "clf_score(clf2)"
   ]
  },
  {
   "cell_type": "markdown",
   "metadata": {},
   "source": [
    "Still not as good as the standard Random Forest"
   ]
  },
  {
   "cell_type": "markdown",
   "metadata": {},
   "source": [
    "### 3.4 Gradient Boost"
   ]
  },
  {
   "cell_type": "markdown",
   "metadata": {},
   "source": [
    "#### Gradient Boosting Standard"
   ]
  },
  {
   "cell_type": "code",
   "execution_count": 759,
   "metadata": {
    "scrolled": false
   },
   "outputs": [
    {
     "name": "stdout",
     "output_type": "stream",
     "text": [
      "0.5259881045167869\n",
      "Accuracy (.predict): 0.8427\n",
      "Accuracy   (.score): 0.8427\n",
      "ROC score          : 0.9139\n"
     ]
    },
    {
     "data": {
      "image/png": "[encoded data removed]",
      "text/plain": [
       "<Figure size 432x288 with 1 Axes>"
      ]
     },
     "metadata": {
      "needs_background": "light"
     },
     "output_type": "display_data"
    }
   ],
   "source": [
    "# Gradient Boost Classifier\n",
    "clf3 = GradientBoostingClassifier(n_estimators=50, learning_rate=0.5, max_depth=10, random_state=42)\n",
    "clf3.fit(X_train, y_train) \n",
    "\n",
    "clf_score(clf3)\n",
    "\n",
    "# Most accurate, but slowest"
   ]
  },
  {
   "cell_type": "markdown",
   "metadata": {},
   "source": [
    "#### AdaBoost"
   ]
  },
  {
   "cell_type": "code",
   "execution_count": 758,
   "metadata": {
    "scrolled": false
   },
   "outputs": [
    {
     "name": "stdout",
     "output_type": "stream",
     "text": [
      "0.5975104103319778\n",
      "Accuracy (.predict): 0.7895\n",
      "Accuracy   (.score): 0.7895\n",
      "ROC score          : 0.8599\n"
     ]
    },
    {
     "data": {
      "image/png": "[encoded data removed]",
      "text/plain": [
       "<Figure size 432x288 with 1 Axes>"
      ]
     },
     "metadata": {
      "needs_background": "light"
     },
     "output_type": "display_data"
    }
   ],
   "source": [
    "# AdaBoost Clasifier\n",
    "clf4 = AdaBoostClassifier(n_estimators=100)\n",
    "clf4.fit(X_train, y_train)\n",
    "clf_score(clf4)"
   ]
  },
  {
   "cell_type": "markdown",
   "metadata": {},
   "source": [
    "#### Gridsearch"
   ]
  },
  {
   "cell_type": "code",
   "execution_count": 1028,
   "metadata": {},
   "outputs": [],
   "source": [
    "# Select the complete dataframe\n",
    "X = np.array(df)\n",
    "# Train, test split \n",
    "X_train, X_test, y_train, y_test = train_test_split(X, y, random_state=42, test_size=0.3)"
   ]
  },
  {
   "cell_type": "code",
   "execution_count": 1029,
   "metadata": {},
   "outputs": [
    {
     "name": "stdout",
     "output_type": "stream",
     "text": [
      "Done\n"
     ]
    }
   ],
   "source": [
    "# Grid search for various parameters\n",
    "param_grid = {'n_estimators': [10, 50, 100], \n",
    "              'learning_rate': [0.01, 0.1, 0.5, 1], \n",
    "              'max_depth': [10, 100]}\n",
    "\n",
    "gbc = GradientBoostingClassifier(random_state=42)\n",
    "gbc_cv = GridSearchCV(gbc, param_grid, cv=5)\n",
    "gbc_cv.fit(X_train, y_train)\n",
    "\n",
    "print('Done')"
   ]
  },
  {
   "cell_type": "code",
   "execution_count": 1034,
   "metadata": {},
   "outputs": [
    {
     "name": "stdout",
     "output_type": "stream",
     "text": [
      "Best paramseters: {'learning_rate': 0.1, 'max_depth': 10, 'n_estimators': 100}\n",
      "Best score      : 0.8459\n"
     ]
    }
   ],
   "source": [
    "# Best parameters\n",
    "print('Best paramseters:', gbc_cv.best_params_)\n",
    "print('Best score      : {:0.4f}'.format(gbc_cv.best_score_))"
   ]
  },
  {
   "cell_type": "code",
   "execution_count": 1031,
   "metadata": {},
   "outputs": [
    {
     "name": "stdout",
     "output_type": "stream",
     "text": [
      "Accuracy (.predict): 0.8454\n",
      "Accuracy   (.score): 0.8454\n",
      "ROC score          : 0.9188\n"
     ]
    },
    {
     "data": {
      "image/png": "[encoded data removed]",
      "text/plain": [
       "<Figure size 432x288 with 1 Axes>"
      ]
     },
     "metadata": {
      "needs_background": "light"
     },
     "output_type": "display_data"
    }
   ],
   "source": [
    "clf_score(gbc_cv)"
   ]
  },
  {
   "cell_type": "markdown",
   "metadata": {},
   "source": [
    "### 3.5 KNN"
   ]
  },
  {
   "cell_type": "code",
   "execution_count": 760,
   "metadata": {},
   "outputs": [
    {
     "name": "stdout",
     "output_type": "stream",
     "text": [
      "Accuracy (.predict): 0.7625\n",
      "Accuracy   (.score): 0.7625\n",
      "ROC score          : 0.8071\n"
     ]
    },
    {
     "data": {
      "image/png": "[encoded data removed]",
      "text/plain": [
       "<Figure size 432x288 with 1 Axes>"
      ]
     },
     "metadata": {
      "needs_background": "light"
     },
     "output_type": "display_data"
    }
   ],
   "source": [
    "# KNN\n",
    "clf5 = KNeighborsClassifier(n_neighbors=3)\n",
    "clf5.fit(X_train, y_train)\n",
    "clf_score(clf5)"
   ]
  },
  {
   "cell_type": "code",
   "execution_count": 780,
   "metadata": {},
   "outputs": [
    {
     "name": "stdout",
     "output_type": "stream",
     "text": [
      "Best     K: {'n_neighbors': 3}\n",
      "Best score: 0.76\n"
     ]
    }
   ],
   "source": [
    "# Grid search for various K's\n",
    "param_grid = {'n_neighbors': [3, 5, 9, 15]}\n",
    "clf6 = KNeighborsClassifier()\n",
    "clf6_cv = GridSearchCV(clf6, param_grid, cv=5)\n",
    "clf6_cv.fit(X_train, y_train)\n",
    "\n",
    "# Best parameters\n",
    "print('Best     K:', clf6_cv.best_params_)\n",
    "print('Best score: {:0.2f}'.format(clf6_cv.best_score_))"
   ]
  },
  {
   "cell_type": "markdown",
   "metadata": {},
   "source": [
    "Try KNN with scaling for n_neighbors = 3"
   ]
  },
  {
   "cell_type": "code",
   "execution_count": 782,
   "metadata": {},
   "outputs": [
    {
     "name": "stdout",
     "output_type": "stream",
     "text": [
      "Accuracy (.predict): 0.7938\n",
      "Accuracy   (.score): 0.7938\n",
      "ROC score          : 0.8439\n"
     ]
    },
    {
     "data": {
      "image/png": "[encoded data removed]",
      "text/plain": [
       "<Figure size 432x288 with 1 Axes>"
      ]
     },
     "metadata": {
      "needs_background": "light"
     },
     "output_type": "display_data"
    }
   ],
   "source": [
    "# KNN with scaling in pipeline\n",
    "steps = [('scaler', StandardScaler()), ('knn', KNeighborsClassifier(n_neighbors=3))]\n",
    "pipeline = Pipeline(steps)\n",
    "clf7 = pipeline.fit(X_train, y_train)\n",
    "\n",
    "clf_score(clf7)"
   ]
  },
  {
   "cell_type": "markdown",
   "metadata": {},
   "source": [
    "There is a 4% increase in the score. Try scaling and PCA."
   ]
  },
  {
   "cell_type": "code",
   "execution_count": 38,
   "metadata": {},
   "outputs": [],
   "source": [
    "# Scaling\n",
    "scaler = StandardScaler()\n",
    "scaler.fit(X_train)\n",
    "# Apply transform to both the training set and the test set.\n",
    "X_train = scaler.transform(X_train)\n",
    "X_test = scaler.transform(X_test)"
   ]
  },
  {
   "cell_type": "code",
   "execution_count": 39,
   "metadata": {},
   "outputs": [],
   "source": [
    "# Apply PCA\n",
    "pca = PCA(n_components=0.80)\n",
    "# Do PCA on training set only\n",
    "pca.fit(X_train)\n",
    "\n",
    "# Apply applied PCA to X and y scaled\n",
    "X_train = pca.transform(X_train)\n",
    "X_test = pca.transform(X_test)    "
   ]
  },
  {
   "cell_type": "code",
   "execution_count": 40,
   "metadata": {},
   "outputs": [
    {
     "name": "stdout",
     "output_type": "stream",
     "text": [
      "(44179, 79)\n",
      "(44179,)\n"
     ]
    }
   ],
   "source": [
    "print(X_train.shape)\n",
    "print(y_train.shape)"
   ]
  },
  {
   "cell_type": "code",
   "execution_count": 41,
   "metadata": {},
   "outputs": [
    {
     "name": "stdout",
     "output_type": "stream",
     "text": [
      "Number of components: 79\n"
     ]
    }
   ],
   "source": [
    "# Try KNN again\n",
    "clf8 = KNeighborsClassifier(n_neighbors=3)\n",
    "clf8.fit(X_train, y_train)\n",
    "print('Number of components:', pca.n_components_)"
   ]
  },
  {
   "cell_type": "code",
   "execution_count": 42,
   "metadata": {},
   "outputs": [
    {
     "name": "stdout",
     "output_type": "stream",
     "text": [
      "Accuracy   (.score): 0.7881\n"
     ]
    }
   ],
   "source": [
    "# Check the accuracy on the test set with .score() and PCS(0.8)\n",
    "print('Accuracy   (.score): {:0.4f}'.format(clf8.score(X_test, y_test)))"
   ]
  },
  {
   "cell_type": "code",
   "execution_count": 43,
   "metadata": {
    "scrolled": true
   },
   "outputs": [
    {
     "name": "stdout",
     "output_type": "stream",
     "text": [
      "Accuracy (.predict): 0.7881\n",
      "Accuracy   (.score): 0.7881\n",
      "ROC score          : 0.8353\n"
     ]
    },
    {
     "data": {
      "image/png": "[encoded data removed]",
      "text/plain": [
       "<Figure size 432x288 with 1 Axes>"
      ]
     },
     "metadata": {
      "needs_background": "light"
     },
     "output_type": "display_data"
    }
   ],
   "source": [
    "# Score for PCA(0.80)\n",
    "clf_score(clf8)"
   ]
  },
  {
   "cell_type": "markdown",
   "metadata": {},
   "source": [
    "Even with scaling and PCA the best results we get is:  \n",
    "PCA(0.95): Score = 0.7868  \n",
    "PCA(0.80): Score = 0.7887 \n",
    "  \n",
    "This preformance is not even close to Random Forest or Gradient Boosting."
   ]
  },
  {
   "cell_type": "markdown",
   "metadata": {},
   "source": [
    "Simply try training on the top 40 important features."
   ]
  },
  {
   "cell_type": "code",
   "execution_count": 887,
   "metadata": {},
   "outputs": [],
   "source": [
    "# Create a DataFrame with the sequence of most important features. 40 features this time\n",
    "feat_imp = pd.DataFrame(zip(df.columns, clf1.feature_importances_), columns=['feature', 'importance']).\\\n",
    "    sort_values(by='importance', ascending=False).head(40)"
   ]
  },
  {
   "cell_type": "code",
   "execution_count": 888,
   "metadata": {},
   "outputs": [],
   "source": [
    "df_reduced = df[feat_imp['feature'].values]"
   ]
  },
  {
   "cell_type": "code",
   "execution_count": 889,
   "metadata": {},
   "outputs": [],
   "source": [
    "X = np.array(df_reduced)"
   ]
  },
  {
   "cell_type": "code",
   "execution_count": 890,
   "metadata": {},
   "outputs": [],
   "source": [
    "# Train, test split again to select fewer features and then scale and apply PCA\n",
    "X_train, X_test, y_train, y_test = train_test_split(X, y, random_state=42, test_size=0.3)"
   ]
  },
  {
   "cell_type": "code",
   "execution_count": 891,
   "metadata": {},
   "outputs": [
    {
     "data": {
      "text/plain": [
       "KNeighborsClassifier(algorithm='auto', leaf_size=30, metric='minkowski',\n",
       "                     metric_params=None, n_jobs=None, n_neighbors=3, p=2,\n",
       "                     weights='uniform')"
      ]
     },
     "execution_count": 891,
     "metadata": {},
     "output_type": "execute_result"
    }
   ],
   "source": [
    "# Try KNN again\n",
    "clf9 = KNeighborsClassifier(n_neighbors=3)\n",
    "clf9.fit(X_train, y_train)"
   ]
  },
  {
   "cell_type": "code",
   "execution_count": 892,
   "metadata": {},
   "outputs": [
    {
     "name": "stdout",
     "output_type": "stream",
     "text": [
      "Accuracy   (.score): 0.7614\n"
     ]
    }
   ],
   "source": [
    "# Check the accuracy on the test set with .score()\n",
    "print('Accuracy   (.score): {:0.4f}'.format(clf9.score(X_test, y_test)))"
   ]
  },
  {
   "cell_type": "markdown",
   "metadata": {},
   "source": [
    "The score is actually slightly lower when training with fewer features."
   ]
  },
  {
   "cell_type": "markdown",
   "metadata": {},
   "source": [
    "### 3.6 Logistic Regression"
   ]
  },
  {
   "cell_type": "markdown",
   "metadata": {},
   "source": [
    "Break up the train-test set again and set up a pipeline scaling, PCA and gridsearch."
   ]
  },
  {
   "cell_type": "code",
   "execution_count": 968,
   "metadata": {},
   "outputs": [],
   "source": [
    "# Select the complete dataframe\n",
    "X = np.array(df)\n",
    "# Train, test split \n",
    "X_train, X_test, y_train, y_test = train_test_split(X, y, random_state=42, test_size=0.3)"
   ]
  },
  {
   "cell_type": "code",
   "execution_count": 969,
   "metadata": {
    "collapsed": true
   },
   "outputs": [
    {
     "name": "stderr",
     "output_type": "stream",
     "text": [
      "C:\\Users\\jacqu\\Miniconda3\\envs\\springboard_env\\lib\\site-packages\\sklearn\\linear_model\\sag.py:337: ConvergenceWarning: The max_iter was reached which means the coef_ did not converge\n",
      "  \"the coef_ did not converge\", ConvergenceWarning)\n",
      "C:\\Users\\jacqu\\Miniconda3\\envs\\springboard_env\\lib\\site-packages\\sklearn\\linear_model\\sag.py:337: ConvergenceWarning: The max_iter was reached which means the coef_ did not converge\n",
      "  \"the coef_ did not converge\", ConvergenceWarning)\n",
      "C:\\Users\\jacqu\\Miniconda3\\envs\\springboard_env\\lib\\site-packages\\sklearn\\linear_model\\sag.py:337: ConvergenceWarning: The max_iter was reached which means the coef_ did not converge\n",
      "  \"the coef_ did not converge\", ConvergenceWarning)\n",
      "C:\\Users\\jacqu\\Miniconda3\\envs\\springboard_env\\lib\\site-packages\\sklearn\\linear_model\\sag.py:337: ConvergenceWarning: The max_iter was reached which means the coef_ did not converge\n",
      "  \"the coef_ did not converge\", ConvergenceWarning)\n",
      "C:\\Users\\jacqu\\Miniconda3\\envs\\springboard_env\\lib\\site-packages\\sklearn\\linear_model\\sag.py:337: ConvergenceWarning: The max_iter was reached which means the coef_ did not converge\n",
      "  \"the coef_ did not converge\", ConvergenceWarning)\n",
      "C:\\Users\\jacqu\\Miniconda3\\envs\\springboard_env\\lib\\site-packages\\sklearn\\linear_model\\sag.py:337: ConvergenceWarning: The max_iter was reached which means the coef_ did not converge\n",
      "  \"the coef_ did not converge\", ConvergenceWarning)\n",
      "C:\\Users\\jacqu\\Miniconda3\\envs\\springboard_env\\lib\\site-packages\\sklearn\\linear_model\\sag.py:337: ConvergenceWarning: The max_iter was reached which means the coef_ did not converge\n",
      "  \"the coef_ did not converge\", ConvergenceWarning)\n",
      "C:\\Users\\jacqu\\Miniconda3\\envs\\springboard_env\\lib\\site-packages\\sklearn\\linear_model\\sag.py:337: ConvergenceWarning: The max_iter was reached which means the coef_ did not converge\n",
      "  \"the coef_ did not converge\", ConvergenceWarning)\n",
      "C:\\Users\\jacqu\\Miniconda3\\envs\\springboard_env\\lib\\site-packages\\sklearn\\linear_model\\sag.py:337: ConvergenceWarning: The max_iter was reached which means the coef_ did not converge\n",
      "  \"the coef_ did not converge\", ConvergenceWarning)\n",
      "C:\\Users\\jacqu\\Miniconda3\\envs\\springboard_env\\lib\\site-packages\\sklearn\\linear_model\\sag.py:337: ConvergenceWarning: The max_iter was reached which means the coef_ did not converge\n",
      "  \"the coef_ did not converge\", ConvergenceWarning)\n",
      "C:\\Users\\jacqu\\Miniconda3\\envs\\springboard_env\\lib\\site-packages\\sklearn\\linear_model\\sag.py:337: ConvergenceWarning: The max_iter was reached which means the coef_ did not converge\n",
      "  \"the coef_ did not converge\", ConvergenceWarning)\n",
      "C:\\Users\\jacqu\\Miniconda3\\envs\\springboard_env\\lib\\site-packages\\sklearn\\linear_model\\sag.py:337: ConvergenceWarning: The max_iter was reached which means the coef_ did not converge\n",
      "  \"the coef_ did not converge\", ConvergenceWarning)\n",
      "C:\\Users\\jacqu\\Miniconda3\\envs\\springboard_env\\lib\\site-packages\\sklearn\\linear_model\\sag.py:337: ConvergenceWarning: The max_iter was reached which means the coef_ did not converge\n",
      "  \"the coef_ did not converge\", ConvergenceWarning)\n",
      "C:\\Users\\jacqu\\Miniconda3\\envs\\springboard_env\\lib\\site-packages\\sklearn\\linear_model\\sag.py:337: ConvergenceWarning: The max_iter was reached which means the coef_ did not converge\n",
      "  \"the coef_ did not converge\", ConvergenceWarning)\n",
      "C:\\Users\\jacqu\\Miniconda3\\envs\\springboard_env\\lib\\site-packages\\sklearn\\linear_model\\sag.py:337: ConvergenceWarning: The max_iter was reached which means the coef_ did not converge\n",
      "  \"the coef_ did not converge\", ConvergenceWarning)\n",
      "C:\\Users\\jacqu\\Miniconda3\\envs\\springboard_env\\lib\\site-packages\\sklearn\\linear_model\\sag.py:337: ConvergenceWarning: The max_iter was reached which means the coef_ did not converge\n",
      "  \"the coef_ did not converge\", ConvergenceWarning)\n",
      "C:\\Users\\jacqu\\Miniconda3\\envs\\springboard_env\\lib\\site-packages\\sklearn\\linear_model\\sag.py:337: ConvergenceWarning: The max_iter was reached which means the coef_ did not converge\n",
      "  \"the coef_ did not converge\", ConvergenceWarning)\n",
      "C:\\Users\\jacqu\\Miniconda3\\envs\\springboard_env\\lib\\site-packages\\sklearn\\linear_model\\sag.py:337: ConvergenceWarning: The max_iter was reached which means the coef_ did not converge\n",
      "  \"the coef_ did not converge\", ConvergenceWarning)\n",
      "C:\\Users\\jacqu\\Miniconda3\\envs\\springboard_env\\lib\\site-packages\\sklearn\\linear_model\\sag.py:337: ConvergenceWarning: The max_iter was reached which means the coef_ did not converge\n",
      "  \"the coef_ did not converge\", ConvergenceWarning)\n",
      "C:\\Users\\jacqu\\Miniconda3\\envs\\springboard_env\\lib\\site-packages\\sklearn\\linear_model\\sag.py:337: ConvergenceWarning: The max_iter was reached which means the coef_ did not converge\n",
      "  \"the coef_ did not converge\", ConvergenceWarning)\n",
      "C:\\Users\\jacqu\\Miniconda3\\envs\\springboard_env\\lib\\site-packages\\sklearn\\linear_model\\sag.py:337: ConvergenceWarning: The max_iter was reached which means the coef_ did not converge\n",
      "  \"the coef_ did not converge\", ConvergenceWarning)\n",
      "C:\\Users\\jacqu\\Miniconda3\\envs\\springboard_env\\lib\\site-packages\\sklearn\\linear_model\\sag.py:337: ConvergenceWarning: The max_iter was reached which means the coef_ did not converge\n",
      "  \"the coef_ did not converge\", ConvergenceWarning)\n",
      "C:\\Users\\jacqu\\Miniconda3\\envs\\springboard_env\\lib\\site-packages\\sklearn\\linear_model\\sag.py:337: ConvergenceWarning: The max_iter was reached which means the coef_ did not converge\n",
      "  \"the coef_ did not converge\", ConvergenceWarning)\n",
      "C:\\Users\\jacqu\\Miniconda3\\envs\\springboard_env\\lib\\site-packages\\sklearn\\linear_model\\sag.py:337: ConvergenceWarning: The max_iter was reached which means the coef_ did not converge\n",
      "  \"the coef_ did not converge\", ConvergenceWarning)\n",
      "C:\\Users\\jacqu\\Miniconda3\\envs\\springboard_env\\lib\\site-packages\\sklearn\\linear_model\\sag.py:337: ConvergenceWarning: The max_iter was reached which means the coef_ did not converge\n",
      "  \"the coef_ did not converge\", ConvergenceWarning)\n",
      "C:\\Users\\jacqu\\Miniconda3\\envs\\springboard_env\\lib\\site-packages\\sklearn\\linear_model\\sag.py:337: ConvergenceWarning: The max_iter was reached which means the coef_ did not converge\n",
      "  \"the coef_ did not converge\", ConvergenceWarning)\n",
      "C:\\Users\\jacqu\\Miniconda3\\envs\\springboard_env\\lib\\site-packages\\sklearn\\linear_model\\sag.py:337: ConvergenceWarning: The max_iter was reached which means the coef_ did not converge\n",
      "  \"the coef_ did not converge\", ConvergenceWarning)\n",
      "C:\\Users\\jacqu\\Miniconda3\\envs\\springboard_env\\lib\\site-packages\\sklearn\\linear_model\\sag.py:337: ConvergenceWarning: The max_iter was reached which means the coef_ did not converge\n",
      "  \"the coef_ did not converge\", ConvergenceWarning)\n",
      "C:\\Users\\jacqu\\Miniconda3\\envs\\springboard_env\\lib\\site-packages\\sklearn\\linear_model\\sag.py:337: ConvergenceWarning: The max_iter was reached which means the coef_ did not converge\n",
      "  \"the coef_ did not converge\", ConvergenceWarning)\n",
      "C:\\Users\\jacqu\\Miniconda3\\envs\\springboard_env\\lib\\site-packages\\sklearn\\linear_model\\sag.py:337: ConvergenceWarning: The max_iter was reached which means the coef_ did not converge\n",
      "  \"the coef_ did not converge\", ConvergenceWarning)\n",
      "C:\\Users\\jacqu\\Miniconda3\\envs\\springboard_env\\lib\\site-packages\\sklearn\\linear_model\\sag.py:337: ConvergenceWarning: The max_iter was reached which means the coef_ did not converge\n",
      "  \"the coef_ did not converge\", ConvergenceWarning)\n",
      "C:\\Users\\jacqu\\Miniconda3\\envs\\springboard_env\\lib\\site-packages\\sklearn\\linear_model\\sag.py:337: ConvergenceWarning: The max_iter was reached which means the coef_ did not converge\n",
      "  \"the coef_ did not converge\", ConvergenceWarning)\n",
      "C:\\Users\\jacqu\\Miniconda3\\envs\\springboard_env\\lib\\site-packages\\sklearn\\linear_model\\sag.py:337: ConvergenceWarning: The max_iter was reached which means the coef_ did not converge\n",
      "  \"the coef_ did not converge\", ConvergenceWarning)\n",
      "C:\\Users\\jacqu\\Miniconda3\\envs\\springboard_env\\lib\\site-packages\\sklearn\\linear_model\\sag.py:337: ConvergenceWarning: The max_iter was reached which means the coef_ did not converge\n",
      "  \"the coef_ did not converge\", ConvergenceWarning)\n",
      "C:\\Users\\jacqu\\Miniconda3\\envs\\springboard_env\\lib\\site-packages\\sklearn\\linear_model\\sag.py:337: ConvergenceWarning: The max_iter was reached which means the coef_ did not converge\n",
      "  \"the coef_ did not converge\", ConvergenceWarning)\n",
      "C:\\Users\\jacqu\\Miniconda3\\envs\\springboard_env\\lib\\site-packages\\sklearn\\linear_model\\sag.py:337: ConvergenceWarning: The max_iter was reached which means the coef_ did not converge\n",
      "  \"the coef_ did not converge\", ConvergenceWarning)\n"
     ]
    },
    {
     "name": "stderr",
     "output_type": "stream",
     "text": [
      "C:\\Users\\jacqu\\Miniconda3\\envs\\springboard_env\\lib\\site-packages\\sklearn\\linear_model\\sag.py:337: ConvergenceWarning: The max_iter was reached which means the coef_ did not converge\n",
      "  \"the coef_ did not converge\", ConvergenceWarning)\n",
      "C:\\Users\\jacqu\\Miniconda3\\envs\\springboard_env\\lib\\site-packages\\sklearn\\linear_model\\sag.py:337: ConvergenceWarning: The max_iter was reached which means the coef_ did not converge\n",
      "  \"the coef_ did not converge\", ConvergenceWarning)\n",
      "C:\\Users\\jacqu\\Miniconda3\\envs\\springboard_env\\lib\\site-packages\\sklearn\\linear_model\\sag.py:337: ConvergenceWarning: The max_iter was reached which means the coef_ did not converge\n",
      "  \"the coef_ did not converge\", ConvergenceWarning)\n",
      "C:\\Users\\jacqu\\Miniconda3\\envs\\springboard_env\\lib\\site-packages\\sklearn\\linear_model\\sag.py:337: ConvergenceWarning: The max_iter was reached which means the coef_ did not converge\n",
      "  \"the coef_ did not converge\", ConvergenceWarning)\n",
      "C:\\Users\\jacqu\\Miniconda3\\envs\\springboard_env\\lib\\site-packages\\sklearn\\linear_model\\sag.py:337: ConvergenceWarning: The max_iter was reached which means the coef_ did not converge\n",
      "  \"the coef_ did not converge\", ConvergenceWarning)\n",
      "C:\\Users\\jacqu\\Miniconda3\\envs\\springboard_env\\lib\\site-packages\\sklearn\\linear_model\\sag.py:337: ConvergenceWarning: The max_iter was reached which means the coef_ did not converge\n",
      "  \"the coef_ did not converge\", ConvergenceWarning)\n",
      "C:\\Users\\jacqu\\Miniconda3\\envs\\springboard_env\\lib\\site-packages\\sklearn\\linear_model\\sag.py:337: ConvergenceWarning: The max_iter was reached which means the coef_ did not converge\n",
      "  \"the coef_ did not converge\", ConvergenceWarning)\n",
      "C:\\Users\\jacqu\\Miniconda3\\envs\\springboard_env\\lib\\site-packages\\sklearn\\linear_model\\sag.py:337: ConvergenceWarning: The max_iter was reached which means the coef_ did not converge\n",
      "  \"the coef_ did not converge\", ConvergenceWarning)\n",
      "C:\\Users\\jacqu\\Miniconda3\\envs\\springboard_env\\lib\\site-packages\\sklearn\\linear_model\\sag.py:337: ConvergenceWarning: The max_iter was reached which means the coef_ did not converge\n",
      "  \"the coef_ did not converge\", ConvergenceWarning)\n",
      "C:\\Users\\jacqu\\Miniconda3\\envs\\springboard_env\\lib\\site-packages\\sklearn\\linear_model\\sag.py:337: ConvergenceWarning: The max_iter was reached which means the coef_ did not converge\n",
      "  \"the coef_ did not converge\", ConvergenceWarning)\n",
      "C:\\Users\\jacqu\\Miniconda3\\envs\\springboard_env\\lib\\site-packages\\sklearn\\linear_model\\sag.py:337: ConvergenceWarning: The max_iter was reached which means the coef_ did not converge\n",
      "  \"the coef_ did not converge\", ConvergenceWarning)\n",
      "C:\\Users\\jacqu\\Miniconda3\\envs\\springboard_env\\lib\\site-packages\\sklearn\\linear_model\\sag.py:337: ConvergenceWarning: The max_iter was reached which means the coef_ did not converge\n",
      "  \"the coef_ did not converge\", ConvergenceWarning)\n",
      "C:\\Users\\jacqu\\Miniconda3\\envs\\springboard_env\\lib\\site-packages\\sklearn\\linear_model\\sag.py:337: ConvergenceWarning: The max_iter was reached which means the coef_ did not converge\n",
      "  \"the coef_ did not converge\", ConvergenceWarning)\n",
      "C:\\Users\\jacqu\\Miniconda3\\envs\\springboard_env\\lib\\site-packages\\sklearn\\linear_model\\sag.py:337: ConvergenceWarning: The max_iter was reached which means the coef_ did not converge\n",
      "  \"the coef_ did not converge\", ConvergenceWarning)\n",
      "C:\\Users\\jacqu\\Miniconda3\\envs\\springboard_env\\lib\\site-packages\\sklearn\\linear_model\\sag.py:337: ConvergenceWarning: The max_iter was reached which means the coef_ did not converge\n",
      "  \"the coef_ did not converge\", ConvergenceWarning)\n",
      "C:\\Users\\jacqu\\Miniconda3\\envs\\springboard_env\\lib\\site-packages\\sklearn\\linear_model\\sag.py:337: ConvergenceWarning: The max_iter was reached which means the coef_ did not converge\n",
      "  \"the coef_ did not converge\", ConvergenceWarning)\n",
      "C:\\Users\\jacqu\\Miniconda3\\envs\\springboard_env\\lib\\site-packages\\sklearn\\linear_model\\sag.py:337: ConvergenceWarning: The max_iter was reached which means the coef_ did not converge\n",
      "  \"the coef_ did not converge\", ConvergenceWarning)\n",
      "C:\\Users\\jacqu\\Miniconda3\\envs\\springboard_env\\lib\\site-packages\\sklearn\\linear_model\\sag.py:337: ConvergenceWarning: The max_iter was reached which means the coef_ did not converge\n",
      "  \"the coef_ did not converge\", ConvergenceWarning)\n",
      "C:\\Users\\jacqu\\Miniconda3\\envs\\springboard_env\\lib\\site-packages\\sklearn\\linear_model\\sag.py:337: ConvergenceWarning: The max_iter was reached which means the coef_ did not converge\n",
      "  \"the coef_ did not converge\", ConvergenceWarning)\n",
      "C:\\Users\\jacqu\\Miniconda3\\envs\\springboard_env\\lib\\site-packages\\sklearn\\linear_model\\sag.py:337: ConvergenceWarning: The max_iter was reached which means the coef_ did not converge\n",
      "  \"the coef_ did not converge\", ConvergenceWarning)\n",
      "C:\\Users\\jacqu\\Miniconda3\\envs\\springboard_env\\lib\\site-packages\\sklearn\\linear_model\\sag.py:337: ConvergenceWarning: The max_iter was reached which means the coef_ did not converge\n",
      "  \"the coef_ did not converge\", ConvergenceWarning)\n",
      "C:\\Users\\jacqu\\Miniconda3\\envs\\springboard_env\\lib\\site-packages\\sklearn\\linear_model\\sag.py:337: ConvergenceWarning: The max_iter was reached which means the coef_ did not converge\n",
      "  \"the coef_ did not converge\", ConvergenceWarning)\n",
      "C:\\Users\\jacqu\\Miniconda3\\envs\\springboard_env\\lib\\site-packages\\sklearn\\linear_model\\sag.py:337: ConvergenceWarning: The max_iter was reached which means the coef_ did not converge\n",
      "  \"the coef_ did not converge\", ConvergenceWarning)\n",
      "C:\\Users\\jacqu\\Miniconda3\\envs\\springboard_env\\lib\\site-packages\\sklearn\\linear_model\\sag.py:337: ConvergenceWarning: The max_iter was reached which means the coef_ did not converge\n",
      "  \"the coef_ did not converge\", ConvergenceWarning)\n",
      "C:\\Users\\jacqu\\Miniconda3\\envs\\springboard_env\\lib\\site-packages\\sklearn\\linear_model\\sag.py:337: ConvergenceWarning: The max_iter was reached which means the coef_ did not converge\n",
      "  \"the coef_ did not converge\", ConvergenceWarning)\n",
      "C:\\Users\\jacqu\\Miniconda3\\envs\\springboard_env\\lib\\site-packages\\sklearn\\linear_model\\sag.py:337: ConvergenceWarning: The max_iter was reached which means the coef_ did not converge\n",
      "  \"the coef_ did not converge\", ConvergenceWarning)\n",
      "C:\\Users\\jacqu\\Miniconda3\\envs\\springboard_env\\lib\\site-packages\\sklearn\\linear_model\\sag.py:337: ConvergenceWarning: The max_iter was reached which means the coef_ did not converge\n",
      "  \"the coef_ did not converge\", ConvergenceWarning)\n",
      "C:\\Users\\jacqu\\Miniconda3\\envs\\springboard_env\\lib\\site-packages\\sklearn\\linear_model\\sag.py:337: ConvergenceWarning: The max_iter was reached which means the coef_ did not converge\n",
      "  \"the coef_ did not converge\", ConvergenceWarning)\n",
      "C:\\Users\\jacqu\\Miniconda3\\envs\\springboard_env\\lib\\site-packages\\sklearn\\linear_model\\sag.py:337: ConvergenceWarning: The max_iter was reached which means the coef_ did not converge\n",
      "  \"the coef_ did not converge\", ConvergenceWarning)\n",
      "C:\\Users\\jacqu\\Miniconda3\\envs\\springboard_env\\lib\\site-packages\\sklearn\\linear_model\\sag.py:337: ConvergenceWarning: The max_iter was reached which means the coef_ did not converge\n",
      "  \"the coef_ did not converge\", ConvergenceWarning)\n",
      "C:\\Users\\jacqu\\Miniconda3\\envs\\springboard_env\\lib\\site-packages\\sklearn\\linear_model\\sag.py:337: ConvergenceWarning: The max_iter was reached which means the coef_ did not converge\n",
      "  \"the coef_ did not converge\", ConvergenceWarning)\n",
      "C:\\Users\\jacqu\\Miniconda3\\envs\\springboard_env\\lib\\site-packages\\sklearn\\linear_model\\sag.py:337: ConvergenceWarning: The max_iter was reached which means the coef_ did not converge\n",
      "  \"the coef_ did not converge\", ConvergenceWarning)\n",
      "C:\\Users\\jacqu\\Miniconda3\\envs\\springboard_env\\lib\\site-packages\\sklearn\\linear_model\\sag.py:337: ConvergenceWarning: The max_iter was reached which means the coef_ did not converge\n",
      "  \"the coef_ did not converge\", ConvergenceWarning)\n",
      "C:\\Users\\jacqu\\Miniconda3\\envs\\springboard_env\\lib\\site-packages\\sklearn\\linear_model\\sag.py:337: ConvergenceWarning: The max_iter was reached which means the coef_ did not converge\n",
      "  \"the coef_ did not converge\", ConvergenceWarning)\n",
      "C:\\Users\\jacqu\\Miniconda3\\envs\\springboard_env\\lib\\site-packages\\sklearn\\linear_model\\sag.py:337: ConvergenceWarning: The max_iter was reached which means the coef_ did not converge\n",
      "  \"the coef_ did not converge\", ConvergenceWarning)\n",
      "C:\\Users\\jacqu\\Miniconda3\\envs\\springboard_env\\lib\\site-packages\\sklearn\\linear_model\\sag.py:337: ConvergenceWarning: The max_iter was reached which means the coef_ did not converge\n",
      "  \"the coef_ did not converge\", ConvergenceWarning)\n"
     ]
    },
    {
     "name": "stderr",
     "output_type": "stream",
     "text": [
      "C:\\Users\\jacqu\\Miniconda3\\envs\\springboard_env\\lib\\site-packages\\sklearn\\linear_model\\sag.py:337: ConvergenceWarning: The max_iter was reached which means the coef_ did not converge\n",
      "  \"the coef_ did not converge\", ConvergenceWarning)\n",
      "C:\\Users\\jacqu\\Miniconda3\\envs\\springboard_env\\lib\\site-packages\\sklearn\\linear_model\\sag.py:337: ConvergenceWarning: The max_iter was reached which means the coef_ did not converge\n",
      "  \"the coef_ did not converge\", ConvergenceWarning)\n",
      "C:\\Users\\jacqu\\Miniconda3\\envs\\springboard_env\\lib\\site-packages\\sklearn\\linear_model\\sag.py:337: ConvergenceWarning: The max_iter was reached which means the coef_ did not converge\n",
      "  \"the coef_ did not converge\", ConvergenceWarning)\n",
      "C:\\Users\\jacqu\\Miniconda3\\envs\\springboard_env\\lib\\site-packages\\sklearn\\linear_model\\sag.py:337: ConvergenceWarning: The max_iter was reached which means the coef_ did not converge\n",
      "  \"the coef_ did not converge\", ConvergenceWarning)\n",
      "C:\\Users\\jacqu\\Miniconda3\\envs\\springboard_env\\lib\\site-packages\\sklearn\\linear_model\\sag.py:337: ConvergenceWarning: The max_iter was reached which means the coef_ did not converge\n",
      "  \"the coef_ did not converge\", ConvergenceWarning)\n",
      "C:\\Users\\jacqu\\Miniconda3\\envs\\springboard_env\\lib\\site-packages\\sklearn\\linear_model\\sag.py:337: ConvergenceWarning: The max_iter was reached which means the coef_ did not converge\n",
      "  \"the coef_ did not converge\", ConvergenceWarning)\n",
      "C:\\Users\\jacqu\\Miniconda3\\envs\\springboard_env\\lib\\site-packages\\sklearn\\linear_model\\sag.py:337: ConvergenceWarning: The max_iter was reached which means the coef_ did not converge\n",
      "  \"the coef_ did not converge\", ConvergenceWarning)\n",
      "C:\\Users\\jacqu\\Miniconda3\\envs\\springboard_env\\lib\\site-packages\\sklearn\\linear_model\\sag.py:337: ConvergenceWarning: The max_iter was reached which means the coef_ did not converge\n",
      "  \"the coef_ did not converge\", ConvergenceWarning)\n",
      "C:\\Users\\jacqu\\Miniconda3\\envs\\springboard_env\\lib\\site-packages\\sklearn\\linear_model\\sag.py:337: ConvergenceWarning: The max_iter was reached which means the coef_ did not converge\n",
      "  \"the coef_ did not converge\", ConvergenceWarning)\n",
      "C:\\Users\\jacqu\\Miniconda3\\envs\\springboard_env\\lib\\site-packages\\sklearn\\linear_model\\sag.py:337: ConvergenceWarning: The max_iter was reached which means the coef_ did not converge\n",
      "  \"the coef_ did not converge\", ConvergenceWarning)\n",
      "C:\\Users\\jacqu\\Miniconda3\\envs\\springboard_env\\lib\\site-packages\\sklearn\\linear_model\\sag.py:337: ConvergenceWarning: The max_iter was reached which means the coef_ did not converge\n",
      "  \"the coef_ did not converge\", ConvergenceWarning)\n",
      "C:\\Users\\jacqu\\Miniconda3\\envs\\springboard_env\\lib\\site-packages\\sklearn\\linear_model\\sag.py:337: ConvergenceWarning: The max_iter was reached which means the coef_ did not converge\n",
      "  \"the coef_ did not converge\", ConvergenceWarning)\n",
      "C:\\Users\\jacqu\\Miniconda3\\envs\\springboard_env\\lib\\site-packages\\sklearn\\linear_model\\sag.py:337: ConvergenceWarning: The max_iter was reached which means the coef_ did not converge\n",
      "  \"the coef_ did not converge\", ConvergenceWarning)\n",
      "C:\\Users\\jacqu\\Miniconda3\\envs\\springboard_env\\lib\\site-packages\\sklearn\\linear_model\\sag.py:337: ConvergenceWarning: The max_iter was reached which means the coef_ did not converge\n",
      "  \"the coef_ did not converge\", ConvergenceWarning)\n",
      "C:\\Users\\jacqu\\Miniconda3\\envs\\springboard_env\\lib\\site-packages\\sklearn\\linear_model\\sag.py:337: ConvergenceWarning: The max_iter was reached which means the coef_ did not converge\n",
      "  \"the coef_ did not converge\", ConvergenceWarning)\n",
      "C:\\Users\\jacqu\\Miniconda3\\envs\\springboard_env\\lib\\site-packages\\sklearn\\linear_model\\sag.py:337: ConvergenceWarning: The max_iter was reached which means the coef_ did not converge\n",
      "  \"the coef_ did not converge\", ConvergenceWarning)\n",
      "C:\\Users\\jacqu\\Miniconda3\\envs\\springboard_env\\lib\\site-packages\\sklearn\\linear_model\\sag.py:337: ConvergenceWarning: The max_iter was reached which means the coef_ did not converge\n",
      "  \"the coef_ did not converge\", ConvergenceWarning)\n",
      "C:\\Users\\jacqu\\Miniconda3\\envs\\springboard_env\\lib\\site-packages\\sklearn\\linear_model\\sag.py:337: ConvergenceWarning: The max_iter was reached which means the coef_ did not converge\n",
      "  \"the coef_ did not converge\", ConvergenceWarning)\n"
     ]
    },
    {
     "name": "stdout",
     "output_type": "stream",
     "text": [
      "Tuned Logistic Regression Parameter: {'logreg__C': 100000000.0, 'logreg__penalty': 'l2', 'pca__n_components': 0.95}\n",
      "Tuned Logistic Regression Accuracy: 0.774349804205618\n",
      "Accuracy: 0.7706242737931763\n"
     ]
    },
    {
     "name": "stderr",
     "output_type": "stream",
     "text": [
      "C:\\Users\\jacqu\\Miniconda3\\envs\\springboard_env\\lib\\site-packages\\sklearn\\linear_model\\sag.py:337: ConvergenceWarning: The max_iter was reached which means the coef_ did not converge\n",
      "  \"the coef_ did not converge\", ConvergenceWarning)\n"
     ]
    }
   ],
   "source": [
    "# Setup the pipeline\n",
    "# with steps...\n",
    "steps = [('scaler', StandardScaler()),\n",
    "         ('pca', PCA()),\n",
    "         ('logreg', LogisticRegression(solver='saga', max_iter=1000))]\n",
    "\n",
    "pipeline = Pipeline(steps)\n",
    "\n",
    "# Gridsearch parameters\n",
    "param_grid = {'logreg__C': np.logspace(-5, 8, 5),      \n",
    "              'logreg__penalty': ['l1', 'l2'], \n",
    "              'pca__n_components': [1, 0.95, 0.9, 0.85]}\n",
    "\n",
    "# Initiate GridSearchCV \n",
    "cv = GridSearchCV(pipeline, param_grid, cv=5)\n",
    "\n",
    "# Fit\n",
    "cv.fit(X_train, y_train)\n",
    "\n",
    "# Print the optimal parameters and best score\n",
    "print('Tuned Logistic Regression Parameter: {}'.format(cv.best_params_))\n",
    "print('Tuned Logistic Regression Accuracy: {}'.format(cv.best_score_))\n",
    "# Check score in another way\n",
    "print(\"Accuracy: {}\".format(cv.score(X_test, y_test)))"
   ]
  },
  {
   "cell_type": "markdown",
   "metadata": {},
   "source": [
    "Accuracy: 0.7706242737931763\n",
    "\n",
    "Tuned Logistic Regression Parameter: {'logreg__C': 100000000.0, 'logreg__penalty': 'l2', 'pca__n_components': 0.95}\n",
    "Tuned Logistic Regression Accuracy : 0.774349804205618\n",
    "\n",
    "Logistic Regression just barely beat the heuristic score, but still not nearly as accurate as Gradient Boosting."
   ]
  },
  {
   "cell_type": "markdown",
   "metadata": {},
   "source": [
    "### 3.7 SVM"
   ]
  },
  {
   "cell_type": "code",
   "execution_count": 44,
   "metadata": {},
   "outputs": [],
   "source": [
    "# Select the complete dataframe\n",
    "X = np.array(df)\n",
    "# Train, test split \n",
    "X_train, X_test, y_train, y_test = train_test_split(X, y, random_state=42, test_size=0.3)"
   ]
  },
  {
   "cell_type": "code",
   "execution_count": 45,
   "metadata": {},
   "outputs": [
    {
     "data": {
      "text/plain": [
       "GridSearchCV(cv=5, error_score='raise-deprecating',\n",
       "             estimator=Pipeline(memory=None,\n",
       "                                steps=[('scaler',\n",
       "                                        StandardScaler(copy=True,\n",
       "                                                       with_mean=True,\n",
       "                                                       with_std=True)),\n",
       "                                       ('pca',\n",
       "                                        PCA(copy=True, iterated_power='auto',\n",
       "                                            n_components=None,\n",
       "                                            random_state=None,\n",
       "                                            svd_solver='auto', tol=0.0,\n",
       "                                            whiten=False)),\n",
       "                                       ('SVM',\n",
       "                                        SVC(C=1.0, cache_size=200,\n",
       "                                            class_weight=None, coef0=0.0,\n",
       "                                            decision_functio...pe='ovr',\n",
       "                                            degree=3, gamma='auto_deprecated',\n",
       "                                            kernel='rbf', max_iter=-1,\n",
       "                                            probability=False,\n",
       "                                            random_state=None, shrinking=True,\n",
       "                                            tol=0.001, verbose=False))],\n",
       "                                verbose=False),\n",
       "             iid='warn', n_jobs=None,\n",
       "             param_grid={'SVM__C': [1, 10, 100], 'SVM__gamma': [0.1, 0.01],\n",
       "                         'pca__n_components': [0.95]},\n",
       "             pre_dispatch='2*n_jobs', refit=True, return_train_score=False,\n",
       "             scoring=None, verbose=0)"
      ]
     },
     "execution_count": 45,
     "metadata": {},
     "output_type": "execute_result"
    }
   ],
   "source": [
    "# Setup the pipeline\n",
    "# with steps...\n",
    "steps = [('scaler', StandardScaler()),\n",
    "         ('pca', PCA()),\n",
    "         ('SVM', SVC())]\n",
    "\n",
    "pipeline = Pipeline(steps)\n",
    "\n",
    "# Gridsearch parameters\n",
    "param_grid = {'SVM__C': [1, 10, 100],      \n",
    "              'SVM__gamma': [0.1, 0.01],   \n",
    "              'pca__n_components': [0.95]}\n",
    "\n",
    "# Initiate GridSearchCV \n",
    "cv = GridSearchCV(pipeline, param_grid, cv=5)\n",
    "\n",
    "# Fit\n",
    "cv.fit(X_train, y_train)"
   ]
  },
  {
   "cell_type": "code",
   "execution_count": 46,
   "metadata": {},
   "outputs": [
    {
     "name": "stdout",
     "output_type": "stream",
     "text": [
      "Accuracy: 0.8184747015950142\n"
     ]
    }
   ],
   "source": [
    "# Print the optimal parameters and best score\n",
    "#print('Tuned Logistic Regression Parameter: {}'.format(cv.get_params))\n",
    "print(\"Accuracy: {}\".format(cv.score(X_test, y_test)))"
   ]
  },
  {
   "cell_type": "code",
   "execution_count": 47,
   "metadata": {},
   "outputs": [
    {
     "name": "stdout",
     "output_type": "stream",
     "text": [
      "Tuned Logistic Regression Parameter: {'SVM__C': 100, 'SVM__gamma': 0.01, 'pca__n_components': 0.95}\n",
      "Tuned Logistic Regression Accuracy: 0.8178772720070622\n",
      "Accuracy: 0.8184747015950142\n"
     ]
    }
   ],
   "source": [
    "# Print the optimal parameters and best score\n",
    "print('Tuned Logistic Regression Parameter: {}'.format(cv.best_params_))\n",
    "print('Tuned Logistic Regression Accuracy: {}'.format(cv.best_score_))\n",
    "# Check score in another way\n",
    "print(\"Accuracy: {}\".format(cv.score(X_test, y_test)))"
   ]
  },
  {
   "cell_type": "code",
   "execution_count": null,
   "metadata": {
    "scrolled": true
   },
   "outputs": [],
   "source": []
  },
  {
   "cell_type": "markdown",
   "metadata": {},
   "source": [
    "There is some improvement with SVC but still not as good as Gradient Boosting."
   ]
  },
  {
   "cell_type": "markdown",
   "metadata": {},
   "source": [
    "### 3.8 Keras"
   ]
  },
  {
   "cell_type": "code",
   "execution_count": 973,
   "metadata": {},
   "outputs": [],
   "source": [
    "# Select the complete dataframe\n",
    "X = np.array(df)\n",
    "# Train, test split \n",
    "X_train, X_test, y_train, y_test = train_test_split(X, y, random_state=42, test_size=0.3)"
   ]
  },
  {
   "cell_type": "code",
   "execution_count": 980,
   "metadata": {
    "collapsed": true
   },
   "outputs": [
    {
     "name": "stdout",
     "output_type": "stream",
     "text": [
      "Epoch 1/150\n",
      "44179/44179 [==============================] - 5s 115us/step - loss: 5.6513 - acc: 0.6494\n",
      "Epoch 2/150\n",
      "44179/44179 [==============================] - 5s 107us/step - loss: 5.6513 - acc: 0.6494 0s - loss: 5.6505 - acc: 0.\n",
      "Epoch 3/150\n",
      "44179/44179 [==============================] - 5s 111us/step - loss: 5.6513 - acc: 0.6494\n",
      "Epoch 4/150\n",
      "44179/44179 [==============================] - 5s 110us/step - loss: 5.6513 - acc: 0.6494\n",
      "Epoch 5/150\n",
      "44179/44179 [==============================] - 5s 114us/step - loss: 5.6513 - acc: 0.6494\n",
      "Epoch 6/150\n",
      "44179/44179 [==============================] - 5s 121us/step - loss: 5.6513 - acc: 0.6494\n",
      "Epoch 7/150\n",
      "44179/44179 [==============================] - 5s 114us/step - loss: 5.6513 - acc: 0.6494\n",
      "Epoch 8/150\n",
      "44179/44179 [==============================] - 5s 112us/step - loss: 5.6513 - acc: 0.6494\n",
      "Epoch 9/150\n",
      "44179/44179 [==============================] - 5s 115us/step - loss: 5.6513 - acc: 0.6494\n",
      "Epoch 10/150\n",
      "44179/44179 [==============================] - 5s 114us/step - loss: 5.6513 - acc: 0.6494\n",
      "Epoch 11/150\n",
      "44179/44179 [==============================] - 5s 113us/step - loss: 5.6513 - acc: 0.6494\n",
      "Epoch 12/150\n",
      "44179/44179 [==============================] - 5s 113us/step - loss: 5.6513 - acc: 0.6494\n",
      "Epoch 13/150\n",
      "44179/44179 [==============================] - 5s 111us/step - loss: 5.6513 - acc: 0.6494\n",
      "Epoch 14/150\n",
      "44179/44179 [==============================] - 5s 112us/step - loss: 5.6513 - acc: 0.6494\n",
      "Epoch 15/150\n",
      "44179/44179 [==============================] - 5s 111us/step - loss: 5.6513 - acc: 0.6494\n",
      "Epoch 16/150\n",
      "44179/44179 [==============================] - 5s 113us/step - loss: 5.6513 - acc: 0.6494\n",
      "Epoch 17/150\n",
      "44179/44179 [==============================] - 5s 113us/step - loss: 5.6513 - acc: 0.6494\n",
      "Epoch 18/150\n",
      "44179/44179 [==============================] - 5s 115us/step - loss: 5.6513 - acc: 0.6494\n",
      "Epoch 19/150\n",
      "44179/44179 [==============================] - 5s 115us/step - loss: 5.6513 - acc: 0.6494\n",
      "Epoch 20/150\n",
      "44179/44179 [==============================] - 5s 111us/step - loss: 5.6513 - acc: 0.6494\n",
      "Epoch 21/150\n",
      "44179/44179 [==============================] - 5s 115us/step - loss: 5.6513 - acc: 0.6494\n",
      "Epoch 22/150\n",
      "44179/44179 [==============================] - 5s 113us/step - loss: 5.6513 - acc: 0.6494\n",
      "Epoch 23/150\n",
      "44179/44179 [==============================] - 5s 116us/step - loss: 5.6513 - acc: 0.6494\n",
      "Epoch 24/150\n",
      "44179/44179 [==============================] - 5s 113us/step - loss: 5.6513 - acc: 0.6494\n",
      "Epoch 25/150\n",
      "44179/44179 [==============================] - 5s 115us/step - loss: 5.6513 - acc: 0.6494\n",
      "Epoch 26/150\n",
      "44179/44179 [==============================] - 5s 117us/step - loss: 5.6513 - acc: 0.6494\n",
      "Epoch 27/150\n",
      "44179/44179 [==============================] - 5s 116us/step - loss: 5.6513 - acc: 0.6494\n",
      "Epoch 28/150\n",
      "44179/44179 [==============================] - 5s 114us/step - loss: 5.6513 - acc: 0.6494\n",
      "Epoch 29/150\n",
      "44179/44179 [==============================] - 5s 123us/step - loss: 5.6513 - acc: 0.6494\n",
      "Epoch 30/150\n",
      "44179/44179 [==============================] - 5s 116us/step - loss: 5.6513 - acc: 0.6494\n",
      "Epoch 31/150\n",
      "44179/44179 [==============================] - 5s 116us/step - loss: 5.6513 - acc: 0.6494\n",
      "Epoch 32/150\n",
      "44179/44179 [==============================] - 5s 118us/step - loss: 5.6513 - acc: 0.6494\n",
      "Epoch 33/150\n",
      "44179/44179 [==============================] - 5s 116us/step - loss: 5.6513 - acc: 0.6494\n",
      "Epoch 34/150\n",
      "44179/44179 [==============================] - 5s 114us/step - loss: 5.6513 - acc: 0.6494\n",
      "Epoch 35/150\n",
      "44179/44179 [==============================] - 5s 113us/step - loss: 5.6513 - acc: 0.6494\n",
      "Epoch 36/150\n",
      "44179/44179 [==============================] - 5s 115us/step - loss: 5.6513 - acc: 0.6494\n",
      "Epoch 37/150\n",
      "44179/44179 [==============================] - 5s 120us/step - loss: 5.6513 - acc: 0.6494\n",
      "Epoch 38/150\n",
      "44179/44179 [==============================] - 5s 116us/step - loss: 5.6513 - acc: 0.6494\n",
      "Epoch 39/150\n",
      "44179/44179 [==============================] - 5s 120us/step - loss: 5.6513 - acc: 0.6494\n",
      "Epoch 40/150\n",
      "44179/44179 [==============================] - 5s 120us/step - loss: 5.6513 - acc: 0.6494\n",
      "Epoch 41/150\n",
      "44179/44179 [==============================] - 6s 131us/step - loss: 5.6513 - acc: 0.6494\n",
      "Epoch 42/150\n",
      "44179/44179 [==============================] - 6s 147us/step - loss: 5.6513 - acc: 0.6494\n",
      "Epoch 43/150\n",
      "44179/44179 [==============================] - 5s 123us/step - loss: 5.6513 - acc: 0.6494\n",
      "Epoch 44/150\n",
      "44179/44179 [==============================] - 5s 114us/step - loss: 5.6513 - acc: 0.6494\n",
      "Epoch 45/150\n",
      "44179/44179 [==============================] - 5s 112us/step - loss: 5.6513 - acc: 0.6494\n",
      "Epoch 46/150\n",
      "44179/44179 [==============================] - 5s 114us/step - loss: 5.6513 - acc: 0.6494\n",
      "Epoch 47/150\n",
      "44179/44179 [==============================] - 5s 114us/step - loss: 5.6513 - acc: 0.6494\n",
      "Epoch 48/150\n",
      "44179/44179 [==============================] - 5s 115us/step - loss: 5.6513 - acc: 0.6494\n",
      "Epoch 49/150\n",
      "44179/44179 [==============================] - 5s 115us/step - loss: 5.6513 - acc: 0.6494\n",
      "Epoch 50/150\n",
      "44179/44179 [==============================] - 5s 115us/step - loss: 5.6513 - acc: 0.6494\n",
      "Epoch 51/150\n",
      "44179/44179 [==============================] - 5s 113us/step - loss: 5.6513 - acc: 0.6494\n",
      "Epoch 52/150\n",
      "44179/44179 [==============================] - 5s 114us/step - loss: 5.6513 - acc: 0.6494\n",
      "Epoch 53/150\n",
      "44179/44179 [==============================] - 5s 113us/step - loss: 5.6513 - acc: 0.6494\n",
      "Epoch 54/150\n",
      "44179/44179 [==============================] - 5s 114us/step - loss: 5.6513 - acc: 0.6494\n",
      "Epoch 55/150\n",
      "44179/44179 [==============================] - 5s 113us/step - loss: 5.6513 - acc: 0.6494\n",
      "Epoch 56/150\n",
      "44179/44179 [==============================] - 5s 114us/step - loss: 5.6513 - acc: 0.6494\n",
      "Epoch 57/150\n",
      "44179/44179 [==============================] - 5s 113us/step - loss: 5.6513 - acc: 0.6494\n",
      "Epoch 58/150\n",
      "44179/44179 [==============================] - 5s 113us/step - loss: 5.6513 - acc: 0.6494\n",
      "Epoch 59/150\n",
      "44179/44179 [==============================] - 5s 112us/step - loss: 5.6513 - acc: 0.6494\n",
      "Epoch 60/150\n",
      "44179/44179 [==============================] - 5s 115us/step - loss: 5.6513 - acc: 0.6494\n",
      "Epoch 61/150\n",
      "44179/44179 [==============================] - 5s 115us/step - loss: 5.6513 - acc: 0.6494\n",
      "Epoch 62/150\n",
      "44179/44179 [==============================] - 5s 115us/step - loss: 5.6513 - acc: 0.6494\n",
      "Epoch 63/150\n",
      "44179/44179 [==============================] - 5s 114us/step - loss: 5.6513 - acc: 0.6494\n",
      "Epoch 64/150\n",
      "44179/44179 [==============================] - 5s 116us/step - loss: 5.6513 - acc: 0.6494\n",
      "Epoch 65/150\n",
      "44179/44179 [==============================] - 5s 115us/step - loss: 5.6513 - acc: 0.6494\n",
      "Epoch 66/150\n",
      "44179/44179 [==============================] - 5s 114us/step - loss: 5.6513 - acc: 0.6494\n",
      "Epoch 67/150\n",
      "44179/44179 [==============================] - 5s 112us/step - loss: 5.6513 - acc: 0.6494\n",
      "Epoch 68/150\n",
      "44179/44179 [==============================] - 5s 115us/step - loss: 5.6513 - acc: 0.6494\n",
      "Epoch 69/150\n",
      "44179/44179 [==============================] - 5s 116us/step - loss: 5.6513 - acc: 0.6494\n",
      "Epoch 70/150\n",
      "44179/44179 [==============================] - 5s 115us/step - loss: 5.6513 - acc: 0.6494\n",
      "Epoch 71/150\n",
      "44179/44179 [==============================] - 5s 115us/step - loss: 5.6513 - acc: 0.6494\n",
      "Epoch 72/150\n",
      "44179/44179 [==============================] - 5s 118us/step - loss: 5.6513 - acc: 0.6494\n",
      "Epoch 73/150\n",
      "44179/44179 [==============================] - 5s 115us/step - loss: 5.6513 - acc: 0.6494\n",
      "Epoch 74/150\n",
      "44179/44179 [==============================] - 5s 115us/step - loss: 5.6513 - acc: 0.6494\n",
      "Epoch 75/150\n",
      "44179/44179 [==============================] - 5s 116us/step - loss: 5.6513 - acc: 0.6494\n",
      "Epoch 76/150\n",
      "44179/44179 [==============================] - 5s 113us/step - loss: 5.6513 - acc: 0.6494\n",
      "Epoch 77/150\n",
      "44179/44179 [==============================] - 5s 114us/step - loss: 5.6513 - acc: 0.6494\n",
      "Epoch 78/150\n",
      "44179/44179 [==============================] - 5s 114us/step - loss: 5.6513 - acc: 0.6494\n",
      "Epoch 79/150\n",
      "44179/44179 [==============================] - 5s 115us/step - loss: 5.6513 - acc: 0.6494\n",
      "Epoch 80/150\n",
      "44179/44179 [==============================] - 5s 111us/step - loss: 5.6513 - acc: 0.6494\n",
      "Epoch 81/150\n",
      "44179/44179 [==============================] - 5s 111us/step - loss: 5.6513 - acc: 0.6494\n",
      "Epoch 82/150\n",
      "44179/44179 [==============================] - 5s 111us/step - loss: 5.6513 - acc: 0.6494\n",
      "Epoch 83/150\n",
      "44179/44179 [==============================] - 5s 113us/step - loss: 5.6513 - acc: 0.6494\n",
      "Epoch 84/150\n",
      "44179/44179 [==============================] - 5s 113us/step - loss: 5.6513 - acc: 0.6494\n",
      "Epoch 85/150\n",
      "44179/44179 [==============================] - 5s 113us/step - loss: 5.6513 - acc: 0.6494\n",
      "Epoch 86/150\n",
      "44179/44179 [==============================] - 5s 112us/step - loss: 5.6513 - acc: 0.6494\n",
      "Epoch 87/150\n",
      "44179/44179 [==============================] - 5s 113us/step - loss: 5.6513 - acc: 0.6494\n",
      "Epoch 88/150\n",
      "44179/44179 [==============================] - 5s 112us/step - loss: 5.6513 - acc: 0.6494\n",
      "Epoch 89/150\n",
      "44179/44179 [==============================] - 5s 114us/step - loss: 5.6513 - acc: 0.6494\n",
      "Epoch 90/150\n",
      "44179/44179 [==============================] - 5s 111us/step - loss: 5.6513 - acc: 0.6494\n",
      "Epoch 91/150\n",
      "44179/44179 [==============================] - 5s 115us/step - loss: 5.6513 - acc: 0.6494\n",
      "Epoch 92/150\n",
      "44179/44179 [==============================] - 5s 112us/step - loss: 5.6513 - acc: 0.6494\n",
      "Epoch 93/150\n",
      "44179/44179 [==============================] - 5s 112us/step - loss: 5.6513 - acc: 0.6494\n",
      "Epoch 94/150\n",
      "44179/44179 [==============================] - 6s 129us/step - loss: 5.6513 - acc: 0.6494\n",
      "Epoch 95/150\n",
      "44179/44179 [==============================] - 5s 118us/step - loss: 5.6513 - acc: 0.6494\n",
      "Epoch 96/150\n",
      "44179/44179 [==============================] - 5s 112us/step - loss: 5.6513 - acc: 0.6494\n",
      "Epoch 97/150\n",
      "44179/44179 [==============================] - 5s 111us/step - loss: 5.6513 - acc: 0.6494\n",
      "Epoch 98/150\n",
      "44179/44179 [==============================] - 5s 112us/step - loss: 5.6513 - acc: 0.6494\n",
      "Epoch 99/150\n",
      "44179/44179 [==============================] - 5s 111us/step - loss: 5.6513 - acc: 0.6494\n",
      "Epoch 100/150\n",
      "44179/44179 [==============================] - 5s 113us/step - loss: 5.6513 - acc: 0.6494\n",
      "Epoch 101/150\n",
      "44179/44179 [==============================] - 5s 112us/step - loss: 5.6513 - acc: 0.6494\n",
      "Epoch 102/150\n",
      "44179/44179 [==============================] - 5s 110us/step - loss: 5.6513 - acc: 0.6494\n",
      "Epoch 103/150\n",
      "44179/44179 [==============================] - 5s 113us/step - loss: 5.6513 - acc: 0.6494\n",
      "Epoch 104/150\n",
      "44179/44179 [==============================] - 5s 111us/step - loss: 5.6513 - acc: 0.6494\n",
      "Epoch 105/150\n",
      "44179/44179 [==============================] - 5s 112us/step - loss: 5.6513 - acc: 0.6494\n",
      "Epoch 106/150\n",
      "44179/44179 [==============================] - 5s 111us/step - loss: 5.6513 - acc: 0.6494\n",
      "Epoch 107/150\n",
      "44179/44179 [==============================] - 5s 113us/step - loss: 5.6513 - acc: 0.6494\n",
      "Epoch 108/150\n",
      "44179/44179 [==============================] - 5s 110us/step - loss: 5.6513 - acc: 0.6494\n",
      "Epoch 109/150\n",
      "44179/44179 [==============================] - 5s 111us/step - loss: 5.6513 - acc: 0.6494\n",
      "Epoch 110/150\n",
      "44179/44179 [==============================] - 5s 111us/step - loss: 5.6513 - acc: 0.6494\n",
      "Epoch 111/150\n",
      "44179/44179 [==============================] - 5s 112us/step - loss: 5.6513 - acc: 0.6494\n",
      "Epoch 112/150\n",
      "44179/44179 [==============================] - 5s 110us/step - loss: 5.6513 - acc: 0.6494\n",
      "Epoch 113/150\n",
      "44179/44179 [==============================] - 5s 114us/step - loss: 5.6513 - acc: 0.6494\n",
      "Epoch 114/150\n",
      "44179/44179 [==============================] - 5s 112us/step - loss: 5.6513 - acc: 0.6494\n",
      "Epoch 115/150\n",
      "44179/44179 [==============================] - 5s 113us/step - loss: 5.6513 - acc: 0.6494\n",
      "Epoch 116/150\n",
      "44179/44179 [==============================] - 5s 113us/step - loss: 5.6513 - acc: 0.6494\n",
      "Epoch 117/150\n",
      "44179/44179 [==============================] - 5s 110us/step - loss: 5.6513 - acc: 0.6494\n",
      "Epoch 118/150\n",
      "44179/44179 [==============================] - 5s 113us/step - loss: 5.6513 - acc: 0.6494\n",
      "Epoch 119/150\n",
      "44179/44179 [==============================] - 5s 113us/step - loss: 5.6513 - acc: 0.6494\n",
      "Epoch 120/150\n",
      "44179/44179 [==============================] - 5s 113us/step - loss: 5.6513 - acc: 0.6494\n",
      "Epoch 121/150\n",
      "44179/44179 [==============================] - 5s 113us/step - loss: 5.6513 - acc: 0.6494\n",
      "Epoch 122/150\n",
      "44179/44179 [==============================] - 5s 113us/step - loss: 5.6513 - acc: 0.6494\n",
      "Epoch 123/150\n",
      "44179/44179 [==============================] - 5s 113us/step - loss: 5.6513 - acc: 0.6494\n",
      "Epoch 124/150\n",
      "44179/44179 [==============================] - 5s 112us/step - loss: 5.6513 - acc: 0.6494\n",
      "Epoch 125/150\n",
      "44179/44179 [==============================] - 5s 112us/step - loss: 5.6513 - acc: 0.6494\n",
      "Epoch 126/150\n",
      "44179/44179 [==============================] - 5s 113us/step - loss: 5.6513 - acc: 0.6494\n",
      "Epoch 127/150\n",
      "44179/44179 [==============================] - 5s 113us/step - loss: 5.6513 - acc: 0.6494\n",
      "Epoch 128/150\n",
      "44179/44179 [==============================] - 5s 113us/step - loss: 5.6513 - acc: 0.6494\n",
      "Epoch 129/150\n",
      "44179/44179 [==============================] - 5s 112us/step - loss: 5.6513 - acc: 0.6494\n",
      "Epoch 130/150\n",
      "44179/44179 [==============================] - 5s 112us/step - loss: 5.6513 - acc: 0.6494\n",
      "Epoch 131/150\n",
      "44179/44179 [==============================] - 5s 114us/step - loss: 5.6513 - acc: 0.6494\n",
      "Epoch 132/150\n",
      "44179/44179 [==============================] - 5s 111us/step - loss: 5.6513 - acc: 0.6494\n",
      "Epoch 133/150\n",
      "44179/44179 [==============================] - 5s 112us/step - loss: 5.6513 - acc: 0.6494\n",
      "Epoch 134/150\n",
      "44179/44179 [==============================] - 5s 113us/step - loss: 5.6513 - acc: 0.6494\n",
      "Epoch 135/150\n",
      "44179/44179 [==============================] - 5s 113us/step - loss: 5.6513 - acc: 0.6494\n",
      "Epoch 136/150\n",
      "44179/44179 [==============================] - 5s 112us/step - loss: 5.6513 - acc: 0.6494\n",
      "Epoch 137/150\n",
      "44179/44179 [==============================] - 5s 113us/step - loss: 5.6513 - acc: 0.6494\n",
      "Epoch 138/150\n",
      "44179/44179 [==============================] - 5s 111us/step - loss: 5.6513 - acc: 0.6494\n",
      "Epoch 139/150\n",
      "44179/44179 [==============================] - 5s 111us/step - loss: 5.6513 - acc: 0.6494\n",
      "Epoch 140/150\n",
      "44179/44179 [==============================] - 5s 111us/step - loss: 5.6513 - acc: 0.6494\n",
      "Epoch 141/150\n",
      "44179/44179 [==============================] - 5s 113us/step - loss: 5.6513 - acc: 0.6494\n",
      "Epoch 142/150\n",
      "44179/44179 [==============================] - 5s 112us/step - loss: 5.6513 - acc: 0.6494\n",
      "Epoch 143/150\n",
      "44179/44179 [==============================] - 5s 113us/step - loss: 5.6513 - acc: 0.6494\n",
      "Epoch 144/150\n",
      "44179/44179 [==============================] - 5s 113us/step - loss: 5.6513 - acc: 0.6494\n",
      "Epoch 145/150\n",
      "44179/44179 [==============================] - 5s 112us/step - loss: 5.6513 - acc: 0.6494\n",
      "Epoch 146/150\n",
      "44179/44179 [==============================] - 5s 113us/step - loss: 5.6513 - acc: 0.6494\n",
      "Epoch 147/150\n",
      "44179/44179 [==============================] - 5s 112us/step - loss: 5.6513 - acc: 0.6494\n",
      "Epoch 148/150\n",
      "44179/44179 [==============================] - 5s 113us/step - loss: 5.6513 - acc: 0.6494\n",
      "Epoch 149/150\n",
      "44179/44179 [==============================] - 5s 113us/step - loss: 5.6513 - acc: 0.6494\n",
      "Epoch 150/150\n",
      "44179/44179 [==============================] - 5s 113us/step - loss: 5.6513 - acc: 0.6494\n",
      "18934/18934 [==============================] - 0s 17us/step\n",
      "Accuracy: 0.6479\n"
     ]
    }
   ],
   "source": [
    "model = Sequential()\n",
    "model.add(Dense(100, input_dim=X_train.shape[1], activation='relu'))\n",
    "model.add(Dense(40, activation='relu'))\n",
    "model.add(Dense(8, activation='relu'))\n",
    "model.add(Dense(1, activation='sigmoid'))\n",
    "# compile the keras model\n",
    "model.compile(loss='binary_crossentropy', optimizer='adam', metrics=['accuracy'])\n",
    "# fit the keras model on the dataset\n",
    "model.fit(X_train, y_train, epochs=150, batch_size=10)\n",
    "# evaluate the keras model\n",
    "_, accuracy = model.evaluate(X_test, y_test)\n",
    "print('Accuracy: %.4f' % (accuracy))\n"
   ]
  },
  {
   "cell_type": "markdown",
   "metadata": {},
   "source": [
    "Accuracy: 0.6479  \n",
    "  \n",
    "I am not too familiar with Keras and Tensorflow, but I tried anyway. The score was even lower than the heuristic estimator."
   ]
  },
  {
   "cell_type": "markdown",
   "metadata": {},
   "source": [
    "## 4. Findings"
   ]
  },
  {
   "cell_type": "markdown",
   "metadata": {},
   "source": [
    "Various machine learning approaches were completed. Here are there scores in order of performance:\n",
    "\n",
    "Review the final report for more accurate scores.\n",
    "\n",
    "1. GradientBoostingClassifier: 0.8427\n",
    "2. RandomForestClassifier:     0.8378\n",
    "3. ExtraTreesClassifier:       0.8310\n",
    "4. SVM: 0.8155\n",
    "5. KNeighborsClassifier with scaling:     0.7938\n",
    "6. KNeighborsClassifier with scaling and PCA: 0.7918\n",
    "7. AdaBoostClassifier:         0.7895\n",
    "8. LogisticRegression: 0.7743\n",
    "9. Heuristic: 0.7473\n",
    "10. KNeighborsClassifier: 0.7625\n",
    "11. Sequential: 0.6479"
   ]
  }
 ],
 "metadata": {
  "kernelspec": {
   "display_name": "Python 3",
   "language": "python",
   "name": "python3"
  },
  "language_info": {
   "codemirror_mode": {
    "name": "ipython",
    "version": 3
   },
   "file_extension": ".py",
   "mimetype": "text/x-python",
   "name": "python",
   "nbconvert_exporter": "python",
   "pygments_lexer": "ipython3",
   "version": "3.7.1"
  }
 },
 "nbformat": 4,
 "nbformat_minor": 2
}
